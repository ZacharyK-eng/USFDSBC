{
 "cells": [
  {
   "cell_type": "code",
   "execution_count": 2,
   "id": "ae77f255",
   "metadata": {},
   "outputs": [],
   "source": [
    "import sqlite3\n",
    "import pandas as pd"
   ]
  },
  {
   "cell_type": "code",
   "execution_count": null,
   "id": "08505123",
   "metadata": {},
   "outputs": [
    {
     "name": "stdout",
     "output_type": "stream",
     "text": [
      "         name\n",
      "0    Bookings\n",
      "1  Facilities\n",
      "2     Members\n",
      "   facid             name  membercost  guestcost  initialoutlay  \\\n",
      "0      0   Tennis Court 1         5.0       25.0          10000   \n",
      "1      1   Tennis Court 2         5.0       25.0           8000   \n",
      "2      2  Badminton Court         0.0       15.5           4000   \n",
      "3      3     Table Tennis         0.0        5.0            320   \n",
      "4      4   Massage Room 1         9.9       80.0           4000   \n",
      "\n",
      "   monthlymaintenance  \n",
      "0                 200  \n",
      "1                 200  \n",
      "2                  50  \n",
      "3                  10  \n",
      "4                3000  \n"
     ]
    }
   ],
   "source": [
    "#create connection and validate we can see the data. \n",
    "\n",
    "conn = sqlite3.connect('sqlite_db_pythonsqlite.db')\n",
    "\n",
    "tables = pd.read_sql_query(\"SELECT name FROM sqlite_master WHERE type='table';\", conn)\n",
    "print(tables)\n",
    "\n",
    "df = pd.read_sql_query(\"SELECT * FROM Facilities;\", conn)\n",
    "print(df.head())\n",
    "\n",
    "conn.close()"
   ]
  },
  {
   "cell_type": "markdown",
   "id": "fcfbd894",
   "metadata": {},
   "source": [
    "Question 10"
   ]
  },
  {
   "cell_type": "code",
   "execution_count": 6,
   "id": "c31f3759",
   "metadata": {},
   "outputs": [
    {
     "name": "stdout",
     "output_type": "stream",
     "text": [
      "   facility_name  total_revenue\n",
      "0   Table Tennis            180\n",
      "1  Snooker Table            240\n",
      "2     Pool Table            270\n"
     ]
    }
   ],
   "source": [
    "conn = sqlite3.connect('sqlite_db_pythonsqlite.db')\n",
    "\n",
    "Q10 = \"\"\"\n",
    "SELECT \n",
    "    Facilities.name AS facility_name,\n",
    "    SUM(\n",
    "        CASE \n",
    "            WHEN Bookings.memid = 0 THEN Facilities.guestcost * Bookings.slots\n",
    "            ELSE Facilities.membercost * Bookings.slots\n",
    "        END\n",
    "    ) AS total_revenue\n",
    "FROM Bookings\n",
    "JOIN Facilities ON Bookings.facid = Facilities.facid\n",
    "GROUP BY Facilities.name\n",
    "HAVING total_revenue < 1000\n",
    "ORDER BY total_revenue;\n",
    "\"\"\"\n",
    "df = pd.read_sql_query(Q10, conn)\n",
    "\n",
    "print(df)\n",
    "\n",
    "conn.close()\n"
   ]
  },
  {
   "cell_type": "markdown",
   "id": "eee5bd11",
   "metadata": {},
   "source": [
    "Question 11"
   ]
  },
  {
   "cell_type": "code",
   "execution_count": 8,
   "id": "de88eb20",
   "metadata": {},
   "outputs": [
    {
     "name": "stdout",
     "output_type": "stream",
     "text": [
      "                member_name     recommended_by\n",
      "0            Florence Bader    Ponder Stibbons\n",
      "1                Anne Baker    Ponder Stibbons\n",
      "2             Timothy Baker     Jemima Farrell\n",
      "3                Tim Boothe         Tim Rownam\n",
      "4            Gerald Butters       Darren Smith\n",
      "5               Joan Coplin      Timothy Baker\n",
      "6             Erica Crumpet        Tracy Smith\n",
      "7                Nancy Dare    Janice Joplette\n",
      "8             David Farrell               None\n",
      "9            Jemima Farrell               None\n",
      "10              GUEST GUEST               None\n",
      "11          Matthew Genting     Gerald Butters\n",
      "12                John Hunt  Millicent Purview\n",
      "13              David Jones    Janice Joplette\n",
      "14            Douglas Jones        David Jones\n",
      "15          Janice Joplette       Darren Smith\n",
      "16           Anna Mackenzie       Darren Smith\n",
      "17             Charles Owen       Darren Smith\n",
      "18             David Pinker     Jemima Farrell\n",
      "19        Millicent Purview        Tracy Smith\n",
      "20               Tim Rownam               None\n",
      "21         Henrietta Rumney    Matthew Genting\n",
      "22         Ramnaresh Sarwin     Florence Bader\n",
      "23             Darren Smith               None\n",
      "24             Darren Smith               None\n",
      "25               Jack Smith       Darren Smith\n",
      "26              Tracy Smith               None\n",
      "27          Ponder Stibbons       Burton Tracy\n",
      "28             Burton Tracy               None\n",
      "29      Hyacinth Tupperware               None\n",
      "30  Henry Worthington-Smyth        Tracy Smith\n"
     ]
    }
   ],
   "source": [
    "conn = sqlite3.connect('sqlite_db_pythonsqlite.db')\n",
    "\n",
    "# SQL query for Question 11: Members and who recommended them\n",
    "Q11 = \"\"\"\n",
    "SELECT \n",
    "    m.firstname || ' ' || m.surname AS member_name,\n",
    "    r.firstname || ' ' || r.surname AS recommended_by\n",
    "FROM Members m\n",
    "LEFT JOIN Members r ON m.recommendedby = r.memid\n",
    "ORDER BY m.surname, m.firstname;\n",
    "\"\"\"\n",
    "\n",
    "# Execute the query and load into DataFrame\n",
    "df = pd.read_sql_query(Q11, conn)\n",
    "\n",
    "print(df)\n",
    "\n",
    "# Close the connection\n",
    "conn.close()\n",
    "\n"
   ]
  },
  {
   "cell_type": "markdown",
   "id": "ed960ba2",
   "metadata": {},
   "source": [
    "Question 12\n"
   ]
  },
  {
   "cell_type": "code",
   "execution_count": 9,
   "id": "8563e43e",
   "metadata": {},
   "outputs": [
    {
     "name": "stdout",
     "output_type": "stream",
     "text": [
      "     facility_name  usage_count\n",
      "0  Badminton Court          344\n",
      "1   Massage Room 1          421\n",
      "2   Massage Room 2           27\n",
      "3       Pool Table          783\n",
      "4    Snooker Table          421\n",
      "5     Squash Court          195\n",
      "6     Table Tennis          385\n",
      "7   Tennis Court 1          308\n",
      "8   Tennis Court 2          276\n"
     ]
    }
   ],
   "source": [
    "conn = sqlite3.connect('sqlite_db_pythonsqlite.db')\n",
    "\n",
    "# SQL query for Question 12: Facility usage by members only (excluding guests)\n",
    "Q12 = \"\"\"\n",
    "SELECT \n",
    "    f.name AS facility_name,\n",
    "    COUNT(*) AS usage_count\n",
    "FROM Bookings b\n",
    "JOIN Facilities f ON b.facid = f.facid\n",
    "WHERE b.memid != 0\n",
    "GROUP BY f.name\n",
    "ORDER BY f.name;\n",
    "\"\"\"\n",
    "\n",
    "# Execute the query and load into DataFrame\n",
    "df = pd.read_sql_query(Q12, conn)\n",
    "\n",
    "print(df)\n",
    "\n",
    "conn.close()"
   ]
  },
  {
   "cell_type": "markdown",
   "id": "f4d819a6",
   "metadata": {},
   "source": [
    "Question 13"
   ]
  },
  {
   "cell_type": "code",
   "execution_count": 10,
   "id": "a3f13363",
   "metadata": {},
   "outputs": [
    {
     "name": "stdout",
     "output_type": "stream",
     "text": [
      "      facility_name    month  usage_count\n",
      "0   Badminton Court  2012-07           51\n",
      "1   Badminton Court  2012-08          132\n",
      "2   Badminton Court  2012-09          161\n",
      "3    Massage Room 1  2012-07           77\n",
      "4    Massage Room 1  2012-08          153\n",
      "5    Massage Room 1  2012-09          191\n",
      "6    Massage Room 2  2012-07            4\n",
      "7    Massage Room 2  2012-08            9\n",
      "8    Massage Room 2  2012-09           14\n",
      "9        Pool Table  2012-07          103\n",
      "10       Pool Table  2012-08          272\n",
      "11       Pool Table  2012-09          408\n",
      "12    Snooker Table  2012-07           68\n",
      "13    Snooker Table  2012-08          154\n",
      "14    Snooker Table  2012-09          199\n",
      "15     Squash Court  2012-07           23\n",
      "16     Squash Court  2012-08           85\n",
      "17     Squash Court  2012-09           87\n",
      "18     Table Tennis  2012-07           48\n",
      "19     Table Tennis  2012-08          143\n",
      "20     Table Tennis  2012-09          194\n",
      "21   Tennis Court 1  2012-07           65\n",
      "22   Tennis Court 1  2012-08          111\n",
      "23   Tennis Court 1  2012-09          132\n",
      "24   Tennis Court 2  2012-07           41\n",
      "25   Tennis Court 2  2012-08          109\n",
      "26   Tennis Court 2  2012-09          126\n"
     ]
    }
   ],
   "source": [
    "conn = sqlite3.connect('sqlite_db_pythonsqlite.db')\n",
    "\n",
    "# SQL query for Question 13: Monthly facility usage by members only\n",
    "Q13 = \"\"\"\n",
    "SELECT \n",
    "    f.name AS facility_name,\n",
    "    strftime('%Y-%m', b.starttime) AS month,\n",
    "    COUNT(*) AS usage_count\n",
    "FROM Bookings b\n",
    "JOIN Facilities f ON b.facid = f.facid\n",
    "WHERE b.memid != 0\n",
    "GROUP BY f.name, month\n",
    "ORDER BY f.name, month;\n",
    "\"\"\"\n",
    "\n",
    "# Execute the query and load into DataFrame\n",
    "df = pd.read_sql_query(Q13, conn)\n",
    "\n",
    "print(df)\n",
    "\n",
    "conn.close()\n"
   ]
  }
 ],
 "metadata": {
  "kernelspec": {
   "display_name": "Python 3",
   "language": "python",
   "name": "python3"
  },
  "language_info": {
   "codemirror_mode": {
    "name": "ipython",
    "version": 3
   },
   "file_extension": ".py",
   "mimetype": "text/x-python",
   "name": "python",
   "nbconvert_exporter": "python",
   "pygments_lexer": "ipython3",
   "version": "3.12.10"
  }
 },
 "nbformat": 4,
 "nbformat_minor": 5
}
